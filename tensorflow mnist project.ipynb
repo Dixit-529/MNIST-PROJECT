{
 "cells": [
  {
   "cell_type": "code",
   "execution_count": 1,
   "id": "b2fb44da",
   "metadata": {},
   "outputs": [],
   "source": [
    "import numpy as np\n",
    "import tensorflow as tf"
   ]
  },
  {
   "cell_type": "code",
   "execution_count": 2,
   "id": "3f57aa3d",
   "metadata": {},
   "outputs": [
    {
     "name": "stdout",
     "output_type": "stream",
     "text": [
      "Help on package tensorflow._api.v2.sets in tensorflow._api.v2:\n",
      "\n",
      "NAME\n",
      "    tensorflow._api.v2.sets - Tensorflow set operations.\n",
      "\n",
      "PACKAGE CONTENTS\n",
      "\n",
      "\n",
      "FILE\n",
      "    d:\\anaconda3\\lib\\site-packages\\tensorflow\\_api\\v2\\sets\\__init__.py\n",
      "\n",
      "\n"
     ]
    }
   ],
   "source": [
    "help(tf.sets)"
   ]
  },
  {
   "cell_type": "code",
   "execution_count": 3,
   "id": "7826cc64",
   "metadata": {},
   "outputs": [],
   "source": [
    "import tensorflow_datasets as tfds"
   ]
  },
  {
   "cell_type": "code",
   "execution_count": 4,
   "id": "e1899243",
   "metadata": {},
   "outputs": [],
   "source": [
    "mnist_data , mnist_ifo = tfds.load(name='mnist' , with_info = True , as_supervised = True)"
   ]
  },
  {
   "cell_type": "code",
   "execution_count": 5,
   "id": "95afead4",
   "metadata": {},
   "outputs": [
    {
     "data": {
      "text/plain": [
       "{'train': <PrefetchDataset element_spec=(TensorSpec(shape=(28, 28, 1), dtype=tf.uint8, name=None), TensorSpec(shape=(), dtype=tf.int64, name=None))>,\n",
       " 'test': <PrefetchDataset element_spec=(TensorSpec(shape=(28, 28, 1), dtype=tf.uint8, name=None), TensorSpec(shape=(), dtype=tf.int64, name=None))>}"
      ]
     },
     "execution_count": 5,
     "metadata": {},
     "output_type": "execute_result"
    }
   ],
   "source": [
    "mnist_data"
   ]
  },
  {
   "cell_type": "code",
   "execution_count": 6,
   "id": "7085f39a",
   "metadata": {},
   "outputs": [],
   "source": [
    "mnist_train , mnist_test = mnist_data['train'] , mnist_data['test']\n",
    "\n",
    "validate_samples=0.1 * mnist_ifo.splits['train'].num_examples\n",
    "validate_samples = tf.cast(validate_samples,tf.int64)\n",
    "\n",
    "test_samples=mnist_ifo.splits['test'].num_examples\n",
    "test_samples=tf.cast(test_samples,tf.int64)\n",
    "\n",
    "def scale(image,label):\n",
    "    image=tf.cast(image , tf.float32)\n",
    "    image/=255.0\n",
    "    \n",
    "    return image,label\n",
    "\n",
    "scaled_data=mnist_train.map(scale)\n",
    "\n",
    "test_data=mnist_test.map(scale)\n",
    "\n",
    "buffer_size=5000\n",
    "\n",
    "shuffled_data=scaled_data.shuffle(buffer_size)\n",
    "\n",
    "validate_data=shuffled_data.take(validate_samples)\n",
    "\n",
    "train_data=shuffled_data.skip(validate_samples)\n",
    "\n",
    "batch_size=500\n",
    "\n",
    "train_data = train_data.batch(batch_size)\n",
    "\n",
    "validate_data = validate_data.batch(validate_samples)\n",
    "\n",
    "test_data = test_data.batch(test_samples)\n",
    "\n",
    "validate_inputs , validate_targets = next(iter(validate_data))\n"
   ]
  },
  {
   "cell_type": "code",
   "execution_count": 10,
   "id": "dcac6ea0",
   "metadata": {},
   "outputs": [],
   "source": [
    "input_size=784\n",
    "output_size = 10\n",
    "\n",
    "hiddenlayer_size=500\n",
    "\n",
    "model = tf.keras.Sequential([\n",
    "    tf.keras.layers.Flatten(input_shape=(28,28,1)),\n",
    "    \n",
    "    tf.keras.layers.Dense(hiddenlayer_size , activation='relu'),\n",
    "    tf.keras.layers.Dense(hiddenlayer_size , activation='relu'),\n",
    "    tf.keras.layers.Dense(hiddenlayer_size , activation='relu'),\n",
    "    tf.keras.layers.Dense(hiddenlayer_size , activation='relu'),\n",
    "    \n",
    "    tf.keras.layers.Dense(output_size , activation='softmax')\n",
    "])"
   ]
  },
  {
   "cell_type": "code",
   "execution_count": 13,
   "id": "6b2c8f7d",
   "metadata": {},
   "outputs": [],
   "source": [
    "model.compile(optimizer='adam', loss='sparse_categorical_crossentropy', metrics=['accuracy'])"
   ]
  },
  {
   "cell_type": "code",
   "execution_count": 15,
   "id": "fa7d5efd",
   "metadata": {},
   "outputs": [
    {
     "name": "stdout",
     "output_type": "stream",
     "text": [
      "Epoch 1/10\n",
      "108/108 - 7s - loss: 0.3341 - accuracy: 0.9024 - val_loss: 0.1323 - val_accuracy: 0.9618 - 7s/epoch - 65ms/step\n",
      "Epoch 2/10\n",
      "108/108 - 4s - loss: 0.1015 - accuracy: 0.9693 - val_loss: 0.0896 - val_accuracy: 0.9748 - 4s/epoch - 36ms/step\n",
      "Epoch 3/10\n",
      "108/108 - 4s - loss: 0.0667 - accuracy: 0.9792 - val_loss: 0.0725 - val_accuracy: 0.9802 - 4s/epoch - 35ms/step\n",
      "Epoch 4/10\n",
      "108/108 - 4s - loss: 0.0416 - accuracy: 0.9873 - val_loss: 0.0697 - val_accuracy: 0.9822 - 4s/epoch - 35ms/step\n",
      "Epoch 5/10\n",
      "108/108 - 4s - loss: 0.0355 - accuracy: 0.9888 - val_loss: 0.0617 - val_accuracy: 0.9828 - 4s/epoch - 36ms/step\n",
      "Epoch 6/10\n",
      "108/108 - 4s - loss: 0.0261 - accuracy: 0.9918 - val_loss: 0.0542 - val_accuracy: 0.9847 - 4s/epoch - 35ms/step\n",
      "Epoch 7/10\n",
      "108/108 - 4s - loss: 0.0214 - accuracy: 0.9935 - val_loss: 0.0435 - val_accuracy: 0.9875 - 4s/epoch - 36ms/step\n",
      "Epoch 8/10\n",
      "108/108 - 4s - loss: 0.0196 - accuracy: 0.9936 - val_loss: 0.0371 - val_accuracy: 0.9877 - 4s/epoch - 35ms/step\n",
      "Epoch 9/10\n",
      "108/108 - 4s - loss: 0.0139 - accuracy: 0.9957 - val_loss: 0.0366 - val_accuracy: 0.9905 - 4s/epoch - 35ms/step\n",
      "Epoch 10/10\n",
      "108/108 - 4s - loss: 0.0147 - accuracy: 0.9951 - val_loss: 0.0371 - val_accuracy: 0.9900 - 4s/epoch - 36ms/step\n"
     ]
    },
    {
     "data": {
      "text/plain": [
       "<keras.callbacks.History at 0x2c872277370>"
      ]
     },
     "execution_count": 15,
     "metadata": {},
     "output_type": "execute_result"
    }
   ],
   "source": [
    "Epoch_nums = 10\n",
    "\n",
    "model.fit(train_data , epochs=Epoch_nums , validation_data=(validate_inputs , validate_targets) , verbose=2)"
   ]
  },
  {
   "cell_type": "code",
   "execution_count": 16,
   "id": "3125db22",
   "metadata": {},
   "outputs": [
    {
     "name": "stdout",
     "output_type": "stream",
     "text": [
      "1/1 [==============================] - 1s 793ms/step - loss: 0.0903 - accuracy: 0.9768\n"
     ]
    }
   ],
   "source": [
    "test_loss , test_accuracy = model.evaluate(test_data)"
   ]
  },
  {
   "cell_type": "code",
   "execution_count": 19,
   "id": "016b16ba",
   "metadata": {},
   "outputs": [
    {
     "name": "stdout",
     "output_type": "stream",
     "text": [
      "test_loss: 0.09029258787631989 , test_accuracy:0.9768000245094299\n"
     ]
    }
   ],
   "source": [
    "print('test_loss: {} , test_accuracy:{}'.format(test_loss , test_accuracy))"
   ]
  },
  {
   "cell_type": "code",
   "execution_count": null,
   "id": "73c7dadb",
   "metadata": {},
   "outputs": [],
   "source": []
  }
 ],
 "metadata": {
  "kernelspec": {
   "display_name": "Python 3 (ipykernel)",
   "language": "python",
   "name": "python3"
  },
  "language_info": {
   "codemirror_mode": {
    "name": "ipython",
    "version": 3
   },
   "file_extension": ".py",
   "mimetype": "text/x-python",
   "name": "python",
   "nbconvert_exporter": "python",
   "pygments_lexer": "ipython3",
   "version": "3.9.7"
  }
 },
 "nbformat": 4,
 "nbformat_minor": 5
}
